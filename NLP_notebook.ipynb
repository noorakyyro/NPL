{
  "cells": [
    {
      "cell_type": "markdown",
      "metadata": {
        "id": "view-in-github",
        "colab_type": "text"
      },
      "source": [
        "<a href=\"https://colab.research.google.com/github/noorakyyro/NPL/blob/main/NLP_notebook.ipynb\" target=\"_parent\"><img src=\"https://colab.research.google.com/assets/colab-badge.svg\" alt=\"Open In Colab\"/></a>"
      ]
    },
    {
      "cell_type": "markdown",
      "id": "5a8ef3f5",
      "metadata": {
        "id": "5a8ef3f5"
      },
      "source": [
        "# NLP Project\n",
        "\n",
        "## Sentiment analysis of Elon Musk's tweets¶\n",
        "\n",
        "\n"
      ]
    },
    {
      "cell_type": "markdown",
      "id": "ad18bef1",
      "metadata": {
        "id": "ad18bef1"
      },
      "source": [
        "### 1. Importing packages"
      ]
    },
    {
      "cell_type": "code",
      "execution_count": null,
      "id": "c872589a",
      "metadata": {
        "id": "c872589a"
      },
      "outputs": [],
      "source": [
        "import pandas as pd \n",
        "import numpy as np \n",
        "import re\n",
        "import nltk\n",
        "\n",
        "#!pip install -U textblob\n",
        "#!python -m textblob.download_corpora\n",
        "from textblob import TextBlob\n",
        "\n",
        "\n",
        "%matplotlib inline \n",
        "import matplotlib.pyplot as plt \n",
        "import seaborn as sns \n"
      ]
    },
    {
      "cell_type": "markdown",
      "id": "ee914d39",
      "metadata": {
        "id": "ee914d39"
      },
      "source": [
        "### 2. Importing and viewing data¶\n",
        "\n",
        "This dataset is from Kaggle. Find the link: https://www.kaggle.com/datasets/marta99/elon-musks-tweets-dataset-2022/code?resource=download"
      ]
    },
    {
      "cell_type": "code",
      "execution_count": null,
      "id": "917a6e4f",
      "metadata": {
        "id": "917a6e4f"
      },
      "outputs": [],
      "source": [
        "# Importing the dataset \n",
        "\n",
        "df = pd.read_csv(r'C:\\Users\\noora\\OneDrive\\Työpöytä\\rawdata.csv')"
      ]
    },
    {
      "cell_type": "code",
      "execution_count": null,
      "id": "2ed25183",
      "metadata": {
        "id": "2ed25183",
        "outputId": "1d9cd1c2-5694-4cfd-80d3-9dbd8016ab9a"
      },
      "outputs": [
        {
          "data": {
            "text/plain": [
              "(3060, 4)"
            ]
          },
          "execution_count": 3,
          "metadata": {},
          "output_type": "execute_result"
        }
      ],
      "source": [
        "# Checking the size of the dataset\n",
        "\n",
        "df.shape"
      ]
    },
    {
      "cell_type": "code",
      "execution_count": null,
      "id": "5fddfe7a",
      "metadata": {
        "id": "5fddfe7a",
        "outputId": "8f38d623-f7ae-4fcd-c1e5-5f9b24aea6a0"
      },
      "outputs": [
        {
          "data": {
            "text/plain": [
              "0"
            ]
          },
          "execution_count": 4,
          "metadata": {},
          "output_type": "execute_result"
        }
      ],
      "source": [
        "# Checking whether there are dublicate rows\n",
        "\n",
        "df.duplicated().sum()"
      ]
    },
    {
      "cell_type": "code",
      "execution_count": null,
      "id": "a246d589",
      "metadata": {
        "id": "a246d589",
        "outputId": "e8939b69-2701-47b1-f461-7f39b6c9f67c"
      },
      "outputs": [
        {
          "data": {
            "text/html": [
              "<div>\n",
              "<style scoped>\n",
              "    .dataframe tbody tr th:only-of-type {\n",
              "        vertical-align: middle;\n",
              "    }\n",
              "\n",
              "    .dataframe tbody tr th {\n",
              "        vertical-align: top;\n",
              "    }\n",
              "\n",
              "    .dataframe thead th {\n",
              "        text-align: right;\n",
              "    }\n",
              "</style>\n",
              "<table border=\"1\" class=\"dataframe\">\n",
              "  <thead>\n",
              "    <tr style=\"text-align: right;\">\n",
              "      <th></th>\n",
              "      <th>Tweets</th>\n",
              "      <th>Retweets</th>\n",
              "      <th>Likes</th>\n",
              "      <th>Date</th>\n",
              "    </tr>\n",
              "  </thead>\n",
              "  <tbody>\n",
              "    <tr>\n",
              "      <th>0</th>\n",
              "      <td>@PeterSchiff 🤣 thanks</td>\n",
              "      <td>209</td>\n",
              "      <td>7021</td>\n",
              "      <td>2022-10-27 16:17:39</td>\n",
              "    </tr>\n",
              "    <tr>\n",
              "      <th>1</th>\n",
              "      <td>@ZubyMusic Absolutely</td>\n",
              "      <td>755</td>\n",
              "      <td>26737</td>\n",
              "      <td>2022-10-27 13:19:25</td>\n",
              "    </tr>\n",
              "    <tr>\n",
              "      <th>2</th>\n",
              "      <td>Dear Twitter Advertisers https://t.co/GMwHmInPAS</td>\n",
              "      <td>55927</td>\n",
              "      <td>356623</td>\n",
              "      <td>2022-10-27 13:08:00</td>\n",
              "    </tr>\n",
              "    <tr>\n",
              "      <th>3</th>\n",
              "      <td>@BillyM2k 👻</td>\n",
              "      <td>802</td>\n",
              "      <td>19353</td>\n",
              "      <td>2022-10-27 02:32:48</td>\n",
              "    </tr>\n",
              "    <tr>\n",
              "      <th>4</th>\n",
              "      <td>Meeting a lot of cool people at Twitter today!</td>\n",
              "      <td>9366</td>\n",
              "      <td>195546</td>\n",
              "      <td>2022-10-26 21:39:32</td>\n",
              "    </tr>\n",
              "  </tbody>\n",
              "</table>\n",
              "</div>"
            ],
            "text/plain": [
              "                                             Tweets  Retweets   Likes  \\\n",
              "0                             @PeterSchiff 🤣 thanks       209    7021   \n",
              "1                             @ZubyMusic Absolutely       755   26737   \n",
              "2  Dear Twitter Advertisers https://t.co/GMwHmInPAS     55927  356623   \n",
              "3                                       @BillyM2k 👻       802   19353   \n",
              "4    Meeting a lot of cool people at Twitter today!      9366  195546   \n",
              "\n",
              "                  Date  \n",
              "0  2022-10-27 16:17:39  \n",
              "1  2022-10-27 13:19:25  \n",
              "2  2022-10-27 13:08:00  \n",
              "3  2022-10-27 02:32:48  \n",
              "4  2022-10-26 21:39:32  "
            ]
          },
          "execution_count": 5,
          "metadata": {},
          "output_type": "execute_result"
        }
      ],
      "source": [
        "# Viewing the head and tail of the dataset to check that importing worked and what columns the dataset contains. \n",
        "\n",
        "df.head()"
      ]
    },
    {
      "cell_type": "code",
      "execution_count": null,
      "id": "bb74bbea",
      "metadata": {
        "id": "bb74bbea",
        "outputId": "f9d8d12d-21fc-4719-c27d-8308209b941c"
      },
      "outputs": [
        {
          "data": {
            "text/html": [
              "<div>\n",
              "<style scoped>\n",
              "    .dataframe tbody tr th:only-of-type {\n",
              "        vertical-align: middle;\n",
              "    }\n",
              "\n",
              "    .dataframe tbody tr th {\n",
              "        vertical-align: top;\n",
              "    }\n",
              "\n",
              "    .dataframe thead th {\n",
              "        text-align: right;\n",
              "    }\n",
              "</style>\n",
              "<table border=\"1\" class=\"dataframe\">\n",
              "  <thead>\n",
              "    <tr style=\"text-align: right;\">\n",
              "      <th></th>\n",
              "      <th>Tweets</th>\n",
              "      <th>Retweets</th>\n",
              "      <th>Likes</th>\n",
              "      <th>Date</th>\n",
              "    </tr>\n",
              "  </thead>\n",
              "  <tbody>\n",
              "    <tr>\n",
              "      <th>3055</th>\n",
              "      <td>@LimitingThe @baglino Just that manganese is a...</td>\n",
              "      <td>171</td>\n",
              "      <td>3173</td>\n",
              "      <td>2022-01-27 22:01:06</td>\n",
              "    </tr>\n",
              "    <tr>\n",
              "      <th>3056</th>\n",
              "      <td>@incentives101 @ICRicardoLara Exactly</td>\n",
              "      <td>145</td>\n",
              "      <td>4234</td>\n",
              "      <td>2022-01-27 21:23:20</td>\n",
              "    </tr>\n",
              "    <tr>\n",
              "      <th>3057</th>\n",
              "      <td>@ICRicardoLara Your policies are directly resp...</td>\n",
              "      <td>421</td>\n",
              "      <td>6144</td>\n",
              "      <td>2022-01-27 21:13:57</td>\n",
              "    </tr>\n",
              "    <tr>\n",
              "      <th>3058</th>\n",
              "      <td>@ICRicardoLara You should be voted out of office</td>\n",
              "      <td>484</td>\n",
              "      <td>7029</td>\n",
              "      <td>2022-01-27 21:12:27</td>\n",
              "    </tr>\n",
              "    <tr>\n",
              "      <th>3059</th>\n",
              "      <td>CB radios are free from govt/media control</td>\n",
              "      <td>11302</td>\n",
              "      <td>113429</td>\n",
              "      <td>2022-01-27 21:00:09</td>\n",
              "    </tr>\n",
              "  </tbody>\n",
              "</table>\n",
              "</div>"
            ],
            "text/plain": [
              "                                                 Tweets  Retweets   Likes  \\\n",
              "3055  @LimitingThe @baglino Just that manganese is a...       171    3173   \n",
              "3056              @incentives101 @ICRicardoLara Exactly       145    4234   \n",
              "3057  @ICRicardoLara Your policies are directly resp...       421    6144   \n",
              "3058   @ICRicardoLara You should be voted out of office       484    7029   \n",
              "3059         CB radios are free from govt/media control     11302  113429   \n",
              "\n",
              "                     Date  \n",
              "3055  2022-01-27 22:01:06  \n",
              "3056  2022-01-27 21:23:20  \n",
              "3057  2022-01-27 21:13:57  \n",
              "3058  2022-01-27 21:12:27  \n",
              "3059  2022-01-27 21:00:09  "
            ]
          },
          "execution_count": 6,
          "metadata": {},
          "output_type": "execute_result"
        }
      ],
      "source": [
        "df.tail()"
      ]
    },
    {
      "cell_type": "markdown",
      "id": "edc09353",
      "metadata": {
        "id": "edc09353"
      },
      "source": [
        "It seems that there are some parts of the tweets (user handles, emojies, URL-links) that we should get rid of in order to have the best starting place for the sentiment analysis. "
      ]
    },
    {
      "cell_type": "markdown",
      "id": "74bd19ce",
      "metadata": {
        "id": "74bd19ce"
      },
      "source": [
        "### 3. Cleaning the data"
      ]
    },
    {
      "cell_type": "code",
      "execution_count": null,
      "id": "44888ed7",
      "metadata": {
        "id": "44888ed7"
      },
      "outputs": [],
      "source": [
        "# Creating a user define function to clean the text\n",
        "# This is from https://www.kaggle.com/code/rahadmohiuddin/elon-musk-s-tweet-analysis\n",
        "\n",
        "def clean_text(text):\n",
        "    #first include all possible emoji in a variable\n",
        "    emoji=re.compile(\"[\"\n",
        "                     u\"\\U0001F600-\\U0001F64F\"    #emoticons\n",
        "                     u\"\\U0001F300-\\U0001F5FF\"    #symbol & pictographs\n",
        "                     u\"\\U0001F680-\\U0001F6FF\"    #transport & map\n",
        "                     u\"\\U0001F1E0-\\U0001F1FF\"    #flags\n",
        "                     u\"\\U00002500-\\U00002BEF\"    #chinese char\n",
        "                     u\"\\U00002702-\\U000027B0\"\n",
        "                     u\"\\U000024C2-\\U0001F251\"\n",
        "                     u\"\\U0001f926-\\U0001f937\"\n",
        "                     u\"\\U00010000-\\U0010ffff\"\n",
        "                     u\"\\u2640-\\u2642\" \n",
        "                     u\"\\u2600-\\u2B55\"\n",
        "                     u\"\\u200d\"\n",
        "                     u\"\\u23cf\"\n",
        "                     u\"\\u23e9\"\n",
        "                     u\"\\u231a\"\n",
        "                     u\"\\ufe0f\"    # dingbats\n",
        "                     u\"\\u3030\"\n",
        "                              \"]+\", re.UNICODE)\n",
        "    text=re.sub('RT','',text)                       #remove 'RT' from tweets\n",
        "    text=re.sub('#[A-Za-z0-9]+','',text)            #remove hashtags from tweets\n",
        "    text=re.sub('\\\\n','',text)                      #remove \\n from the tweets\n",
        "    text=re.sub('https?://\\S+|www\\.\\S+','',text)    #remove the hyperlinks from the tweets\n",
        "    text=re.sub('@[\\S]*','',text)                   #remove the mentions from the tweets\n",
        "    text=re.sub('[^\\w\\s]','',text)                  #remove punctuation from the tweets\n",
        "    text=re.sub('^[\\s]+|[\\s]+$','',text)            #remove leading & trailing whitespace from the tweets\n",
        "    text=re.sub(emoji,'',text)                      #remove the emojis from the tweets\n",
        "    text=text.lower()\n",
        "    \n",
        "    return text"
      ]
    },
    {
      "cell_type": "code",
      "execution_count": null,
      "id": "33b7834d",
      "metadata": {
        "scrolled": true,
        "id": "33b7834d",
        "outputId": "e7d17cc8-17f4-457f-8e86-9c3a9aa4bd71"
      },
      "outputs": [
        {
          "data": {
            "text/html": [
              "<div>\n",
              "<style scoped>\n",
              "    .dataframe tbody tr th:only-of-type {\n",
              "        vertical-align: middle;\n",
              "    }\n",
              "\n",
              "    .dataframe tbody tr th {\n",
              "        vertical-align: top;\n",
              "    }\n",
              "\n",
              "    .dataframe thead th {\n",
              "        text-align: right;\n",
              "    }\n",
              "</style>\n",
              "<table border=\"1\" class=\"dataframe\">\n",
              "  <thead>\n",
              "    <tr style=\"text-align: right;\">\n",
              "      <th></th>\n",
              "      <th>Tweets</th>\n",
              "      <th>Cleaned_tweets</th>\n",
              "    </tr>\n",
              "  </thead>\n",
              "  <tbody>\n",
              "    <tr>\n",
              "      <th>0</th>\n",
              "      <td>@PeterSchiff 🤣 thanks</td>\n",
              "      <td>thanks</td>\n",
              "    </tr>\n",
              "    <tr>\n",
              "      <th>1</th>\n",
              "      <td>@ZubyMusic Absolutely</td>\n",
              "      <td>absolutely</td>\n",
              "    </tr>\n",
              "    <tr>\n",
              "      <th>2</th>\n",
              "      <td>Dear Twitter Advertisers https://t.co/GMwHmInPAS</td>\n",
              "      <td>dear twitter advertisers</td>\n",
              "    </tr>\n",
              "    <tr>\n",
              "      <th>3</th>\n",
              "      <td>@BillyM2k 👻</td>\n",
              "      <td></td>\n",
              "    </tr>\n",
              "    <tr>\n",
              "      <th>4</th>\n",
              "      <td>Meeting a lot of cool people at Twitter today!</td>\n",
              "      <td>meeting a lot of cool people at twitter today</td>\n",
              "    </tr>\n",
              "    <tr>\n",
              "      <th>...</th>\n",
              "      <td>...</td>\n",
              "      <td>...</td>\n",
              "    </tr>\n",
              "    <tr>\n",
              "      <th>3055</th>\n",
              "      <td>@LimitingThe @baglino Just that manganese is a...</td>\n",
              "      <td>just that manganese is an alternative to iron ...</td>\n",
              "    </tr>\n",
              "    <tr>\n",
              "      <th>3056</th>\n",
              "      <td>@incentives101 @ICRicardoLara Exactly</td>\n",
              "      <td>exactly</td>\n",
              "    </tr>\n",
              "    <tr>\n",
              "      <th>3057</th>\n",
              "      <td>@ICRicardoLara Your policies are directly resp...</td>\n",
              "      <td>your policies are directly responsible for the...</td>\n",
              "    </tr>\n",
              "    <tr>\n",
              "      <th>3058</th>\n",
              "      <td>@ICRicardoLara You should be voted out of office</td>\n",
              "      <td>you should be voted out of office</td>\n",
              "    </tr>\n",
              "    <tr>\n",
              "      <th>3059</th>\n",
              "      <td>CB radios are free from govt/media control</td>\n",
              "      <td>cb radios are free from govtmedia control</td>\n",
              "    </tr>\n",
              "  </tbody>\n",
              "</table>\n",
              "<p>3060 rows × 2 columns</p>\n",
              "</div>"
            ],
            "text/plain": [
              "                                                 Tweets  \\\n",
              "0                                 @PeterSchiff 🤣 thanks   \n",
              "1                                 @ZubyMusic Absolutely   \n",
              "2      Dear Twitter Advertisers https://t.co/GMwHmInPAS   \n",
              "3                                           @BillyM2k 👻   \n",
              "4        Meeting a lot of cool people at Twitter today!   \n",
              "...                                                 ...   \n",
              "3055  @LimitingThe @baglino Just that manganese is a...   \n",
              "3056              @incentives101 @ICRicardoLara Exactly   \n",
              "3057  @ICRicardoLara Your policies are directly resp...   \n",
              "3058   @ICRicardoLara You should be voted out of office   \n",
              "3059         CB radios are free from govt/media control   \n",
              "\n",
              "                                         Cleaned_tweets  \n",
              "0                                                thanks  \n",
              "1                                            absolutely  \n",
              "2                              dear twitter advertisers  \n",
              "3                                                        \n",
              "4         meeting a lot of cool people at twitter today  \n",
              "...                                                 ...  \n",
              "3055  just that manganese is an alternative to iron ...  \n",
              "3056                                            exactly  \n",
              "3057  your policies are directly responsible for the...  \n",
              "3058                  you should be voted out of office  \n",
              "3059          cb radios are free from govtmedia control  \n",
              "\n",
              "[3060 rows x 2 columns]"
            ]
          },
          "execution_count": 8,
          "metadata": {},
          "output_type": "execute_result"
        }
      ],
      "source": [
        "# Creating a new column for the cleaned tweets\n",
        "\n",
        "df['Cleaned_tweets'] = df['Tweets'].apply(clean_text)\n",
        "\n",
        "#Viewing the dataset\n",
        "\n",
        "df[['Tweets','Cleaned_tweets']]"
      ]
    },
    {
      "cell_type": "code",
      "execution_count": null,
      "id": "3cf9bc83",
      "metadata": {
        "scrolled": true,
        "id": "3cf9bc83",
        "outputId": "456b0538-adea-4088-bf07-a9ff6fb2b088"
      },
      "outputs": [
        {
          "data": {
            "text/html": [
              "<div>\n",
              "<style scoped>\n",
              "    .dataframe tbody tr th:only-of-type {\n",
              "        vertical-align: middle;\n",
              "    }\n",
              "\n",
              "    .dataframe tbody tr th {\n",
              "        vertical-align: top;\n",
              "    }\n",
              "\n",
              "    .dataframe thead th {\n",
              "        text-align: right;\n",
              "    }\n",
              "</style>\n",
              "<table border=\"1\" class=\"dataframe\">\n",
              "  <thead>\n",
              "    <tr style=\"text-align: right;\">\n",
              "      <th></th>\n",
              "      <th>Tweets</th>\n",
              "      <th>Retweets</th>\n",
              "      <th>Likes</th>\n",
              "      <th>Date</th>\n",
              "      <th>Cleaned_tweets</th>\n",
              "    </tr>\n",
              "  </thead>\n",
              "  <tbody>\n",
              "    <tr>\n",
              "      <th>0</th>\n",
              "      <td>@PeterSchiff 🤣 thanks</td>\n",
              "      <td>209</td>\n",
              "      <td>7021</td>\n",
              "      <td>2022-10-27 16:17:39</td>\n",
              "      <td>thanks</td>\n",
              "    </tr>\n",
              "    <tr>\n",
              "      <th>1</th>\n",
              "      <td>@ZubyMusic Absolutely</td>\n",
              "      <td>755</td>\n",
              "      <td>26737</td>\n",
              "      <td>2022-10-27 13:19:25</td>\n",
              "      <td>absolutely</td>\n",
              "    </tr>\n",
              "    <tr>\n",
              "      <th>2</th>\n",
              "      <td>Dear Twitter Advertisers https://t.co/GMwHmInPAS</td>\n",
              "      <td>55927</td>\n",
              "      <td>356623</td>\n",
              "      <td>2022-10-27 13:08:00</td>\n",
              "      <td>dear twitter advertisers</td>\n",
              "    </tr>\n",
              "    <tr>\n",
              "      <th>4</th>\n",
              "      <td>Meeting a lot of cool people at Twitter today!</td>\n",
              "      <td>9366</td>\n",
              "      <td>195546</td>\n",
              "      <td>2022-10-26 21:39:32</td>\n",
              "      <td>meeting a lot of cool people at twitter today</td>\n",
              "    </tr>\n",
              "    <tr>\n",
              "      <th>5</th>\n",
              "      <td>Entering Twitter HQ – let that sink in! https:...</td>\n",
              "      <td>145520</td>\n",
              "      <td>1043592</td>\n",
              "      <td>2022-10-26 18:45:58</td>\n",
              "      <td>entering twitter hq  let that sink in</td>\n",
              "    </tr>\n",
              "  </tbody>\n",
              "</table>\n",
              "</div>"
            ],
            "text/plain": [
              "                                              Tweets  Retweets    Likes  \\\n",
              "0                              @PeterSchiff 🤣 thanks       209     7021   \n",
              "1                              @ZubyMusic Absolutely       755    26737   \n",
              "2   Dear Twitter Advertisers https://t.co/GMwHmInPAS     55927   356623   \n",
              "4     Meeting a lot of cool people at Twitter today!      9366   195546   \n",
              "5  Entering Twitter HQ – let that sink in! https:...    145520  1043592   \n",
              "\n",
              "                  Date                                 Cleaned_tweets  \n",
              "0  2022-10-27 16:17:39                                         thanks  \n",
              "1  2022-10-27 13:19:25                                     absolutely  \n",
              "2  2022-10-27 13:08:00                       dear twitter advertisers  \n",
              "4  2022-10-26 21:39:32  meeting a lot of cool people at twitter today  \n",
              "5  2022-10-26 18:45:58          entering twitter hq  let that sink in  "
            ]
          },
          "execution_count": 9,
          "metadata": {},
          "output_type": "execute_result"
        }
      ],
      "source": [
        "# Removing the blank rows\n",
        "\n",
        "df.drop(df[df[\"Cleaned_tweets\"] == \"\"].index, inplace = True)\n",
        "\n",
        "# Checking the results\n",
        "\n",
        "df.head()"
      ]
    },
    {
      "cell_type": "markdown",
      "id": "6653d2e1",
      "metadata": {
        "id": "6653d2e1"
      },
      "source": [
        "The tweets for the most part seem to be clean now, so I will move on to the next phase"
      ]
    },
    {
      "cell_type": "markdown",
      "id": "f137e431",
      "metadata": {
        "id": "f137e431"
      },
      "source": [
        "### 4. Sentiment analysis"
      ]
    },
    {
      "cell_type": "markdown",
      "id": "6f0d11cb",
      "metadata": {
        "id": "6f0d11cb"
      },
      "source": [
        "For the sentiment analysis I used the package TextBlob. \n",
        "\n",
        "The package will give you scores for the polarity and subjectivity. The polarity score ranges from -1 to 1, with -1 being the most negative sentiment and 1 being the most positive statement. The subjectivity score ranges from 0 to 1, with a score of 0\n",
        "indicating that the statement is factual, whereas a score of 1 refers to a highly subjective statement  "
      ]
    },
    {
      "cell_type": "code",
      "execution_count": null,
      "id": "845263fb",
      "metadata": {
        "id": "845263fb"
      },
      "outputs": [],
      "source": [
        "# Creating functions to get the subjectivity and polarity\n",
        "\n",
        "\n",
        "# Subjectivity\n",
        "\n",
        "def getSubjectivity(text):\n",
        "    return TextBlob(text).sentiment.subjectivity\n",
        "\n",
        "# Polarity\n",
        "\n",
        "def getPolarity(text):\n",
        "        return TextBlob(text).sentiment.polarity "
      ]
    },
    {
      "cell_type": "code",
      "execution_count": null,
      "id": "51300422",
      "metadata": {
        "id": "51300422",
        "outputId": "f39da897-d384-452a-998a-b3b863b1b733"
      },
      "outputs": [
        {
          "data": {
            "text/html": [
              "<div>\n",
              "<style scoped>\n",
              "    .dataframe tbody tr th:only-of-type {\n",
              "        vertical-align: middle;\n",
              "    }\n",
              "\n",
              "    .dataframe tbody tr th {\n",
              "        vertical-align: top;\n",
              "    }\n",
              "\n",
              "    .dataframe thead th {\n",
              "        text-align: right;\n",
              "    }\n",
              "</style>\n",
              "<table border=\"1\" class=\"dataframe\">\n",
              "  <thead>\n",
              "    <tr style=\"text-align: right;\">\n",
              "      <th></th>\n",
              "      <th>Tweets</th>\n",
              "      <th>Retweets</th>\n",
              "      <th>Likes</th>\n",
              "      <th>Date</th>\n",
              "      <th>Cleaned_tweets</th>\n",
              "      <th>Subjectivity</th>\n",
              "      <th>Polarity</th>\n",
              "    </tr>\n",
              "  </thead>\n",
              "  <tbody>\n",
              "    <tr>\n",
              "      <th>0</th>\n",
              "      <td>@PeterSchiff 🤣 thanks</td>\n",
              "      <td>209</td>\n",
              "      <td>7021</td>\n",
              "      <td>2022-10-27 16:17:39</td>\n",
              "      <td>thanks</td>\n",
              "      <td>0.20</td>\n",
              "      <td>0.20</td>\n",
              "    </tr>\n",
              "    <tr>\n",
              "      <th>1</th>\n",
              "      <td>@ZubyMusic Absolutely</td>\n",
              "      <td>755</td>\n",
              "      <td>26737</td>\n",
              "      <td>2022-10-27 13:19:25</td>\n",
              "      <td>absolutely</td>\n",
              "      <td>0.90</td>\n",
              "      <td>0.20</td>\n",
              "    </tr>\n",
              "    <tr>\n",
              "      <th>2</th>\n",
              "      <td>Dear Twitter Advertisers https://t.co/GMwHmInPAS</td>\n",
              "      <td>55927</td>\n",
              "      <td>356623</td>\n",
              "      <td>2022-10-27 13:08:00</td>\n",
              "      <td>dear twitter advertisers</td>\n",
              "      <td>0.00</td>\n",
              "      <td>0.00</td>\n",
              "    </tr>\n",
              "    <tr>\n",
              "      <th>4</th>\n",
              "      <td>Meeting a lot of cool people at Twitter today!</td>\n",
              "      <td>9366</td>\n",
              "      <td>195546</td>\n",
              "      <td>2022-10-26 21:39:32</td>\n",
              "      <td>meeting a lot of cool people at twitter today</td>\n",
              "      <td>0.65</td>\n",
              "      <td>0.35</td>\n",
              "    </tr>\n",
              "    <tr>\n",
              "      <th>5</th>\n",
              "      <td>Entering Twitter HQ – let that sink in! https:...</td>\n",
              "      <td>145520</td>\n",
              "      <td>1043592</td>\n",
              "      <td>2022-10-26 18:45:58</td>\n",
              "      <td>entering twitter hq  let that sink in</td>\n",
              "      <td>0.00</td>\n",
              "      <td>0.00</td>\n",
              "    </tr>\n",
              "  </tbody>\n",
              "</table>\n",
              "</div>"
            ],
            "text/plain": [
              "                                              Tweets  Retweets    Likes  \\\n",
              "0                              @PeterSchiff 🤣 thanks       209     7021   \n",
              "1                              @ZubyMusic Absolutely       755    26737   \n",
              "2   Dear Twitter Advertisers https://t.co/GMwHmInPAS     55927   356623   \n",
              "4     Meeting a lot of cool people at Twitter today!      9366   195546   \n",
              "5  Entering Twitter HQ – let that sink in! https:...    145520  1043592   \n",
              "\n",
              "                  Date                                 Cleaned_tweets  \\\n",
              "0  2022-10-27 16:17:39                                         thanks   \n",
              "1  2022-10-27 13:19:25                                     absolutely   \n",
              "2  2022-10-27 13:08:00                       dear twitter advertisers   \n",
              "4  2022-10-26 21:39:32  meeting a lot of cool people at twitter today   \n",
              "5  2022-10-26 18:45:58          entering twitter hq  let that sink in   \n",
              "\n",
              "   Subjectivity  Polarity  \n",
              "0          0.20      0.20  \n",
              "1          0.90      0.20  \n",
              "2          0.00      0.00  \n",
              "4          0.65      0.35  \n",
              "5          0.00      0.00  "
            ]
          },
          "execution_count": 11,
          "metadata": {},
          "output_type": "execute_result"
        }
      ],
      "source": [
        "# Creating two new columns to save the results of the created functions \n",
        "\n",
        "df[\"Subjectivity\"] = df[\"Cleaned_tweets\"].apply(getSubjectivity)\n",
        "df[\"Polarity\"] = df[\"Cleaned_tweets\"].apply(getPolarity)\n",
        "\n",
        "df.head()"
      ]
    },
    {
      "cell_type": "markdown",
      "id": "0f80ebc4",
      "metadata": {
        "id": "0f80ebc4"
      },
      "source": [
        "In order to make the results easier to comprehend, the tweets will be labelled to be either positive, negative or neutral based on the polarity score."
      ]
    },
    {
      "cell_type": "code",
      "execution_count": null,
      "id": "1a0b2264",
      "metadata": {
        "scrolled": true,
        "id": "1a0b2264",
        "outputId": "57641156-f60d-476c-d882-b7be58731ba6"
      },
      "outputs": [
        {
          "data": {
            "text/html": [
              "<div>\n",
              "<style scoped>\n",
              "    .dataframe tbody tr th:only-of-type {\n",
              "        vertical-align: middle;\n",
              "    }\n",
              "\n",
              "    .dataframe tbody tr th {\n",
              "        vertical-align: top;\n",
              "    }\n",
              "\n",
              "    .dataframe thead th {\n",
              "        text-align: right;\n",
              "    }\n",
              "</style>\n",
              "<table border=\"1\" class=\"dataframe\">\n",
              "  <thead>\n",
              "    <tr style=\"text-align: right;\">\n",
              "      <th></th>\n",
              "      <th>Tweets</th>\n",
              "      <th>Retweets</th>\n",
              "      <th>Likes</th>\n",
              "      <th>Date</th>\n",
              "      <th>Cleaned_tweets</th>\n",
              "      <th>Subjectivity</th>\n",
              "      <th>Polarity</th>\n",
              "      <th>Sentiment</th>\n",
              "    </tr>\n",
              "  </thead>\n",
              "  <tbody>\n",
              "    <tr>\n",
              "      <th>0</th>\n",
              "      <td>@PeterSchiff 🤣 thanks</td>\n",
              "      <td>209</td>\n",
              "      <td>7021</td>\n",
              "      <td>2022-10-27 16:17:39</td>\n",
              "      <td>thanks</td>\n",
              "      <td>0.200000</td>\n",
              "      <td>0.200000</td>\n",
              "      <td>Positive</td>\n",
              "    </tr>\n",
              "    <tr>\n",
              "      <th>1</th>\n",
              "      <td>@ZubyMusic Absolutely</td>\n",
              "      <td>755</td>\n",
              "      <td>26737</td>\n",
              "      <td>2022-10-27 13:19:25</td>\n",
              "      <td>absolutely</td>\n",
              "      <td>0.900000</td>\n",
              "      <td>0.200000</td>\n",
              "      <td>Positive</td>\n",
              "    </tr>\n",
              "    <tr>\n",
              "      <th>2</th>\n",
              "      <td>Dear Twitter Advertisers https://t.co/GMwHmInPAS</td>\n",
              "      <td>55927</td>\n",
              "      <td>356623</td>\n",
              "      <td>2022-10-27 13:08:00</td>\n",
              "      <td>dear twitter advertisers</td>\n",
              "      <td>0.000000</td>\n",
              "      <td>0.000000</td>\n",
              "      <td>Neutral</td>\n",
              "    </tr>\n",
              "    <tr>\n",
              "      <th>4</th>\n",
              "      <td>Meeting a lot of cool people at Twitter today!</td>\n",
              "      <td>9366</td>\n",
              "      <td>195546</td>\n",
              "      <td>2022-10-26 21:39:32</td>\n",
              "      <td>meeting a lot of cool people at twitter today</td>\n",
              "      <td>0.650000</td>\n",
              "      <td>0.350000</td>\n",
              "      <td>Positive</td>\n",
              "    </tr>\n",
              "    <tr>\n",
              "      <th>5</th>\n",
              "      <td>Entering Twitter HQ – let that sink in! https:...</td>\n",
              "      <td>145520</td>\n",
              "      <td>1043592</td>\n",
              "      <td>2022-10-26 18:45:58</td>\n",
              "      <td>entering twitter hq  let that sink in</td>\n",
              "      <td>0.000000</td>\n",
              "      <td>0.000000</td>\n",
              "      <td>Neutral</td>\n",
              "    </tr>\n",
              "    <tr>\n",
              "      <th>8</th>\n",
              "      <td>@ARodTV Definitely closer to citizen journalis...</td>\n",
              "      <td>699</td>\n",
              "      <td>10189</td>\n",
              "      <td>2022-10-26 17:05:16</td>\n",
              "      <td>definitely closer to citizen journalism  local...</td>\n",
              "      <td>0.333333</td>\n",
              "      <td>0.166667</td>\n",
              "      <td>Positive</td>\n",
              "    </tr>\n",
              "    <tr>\n",
              "      <th>9</th>\n",
              "      <td>@sandyleevincent Nobody bats 1000 🤷‍♂️</td>\n",
              "      <td>126</td>\n",
              "      <td>2920</td>\n",
              "      <td>2022-10-26 15:42:50</td>\n",
              "      <td>nobody bats 1000</td>\n",
              "      <td>0.000000</td>\n",
              "      <td>0.000000</td>\n",
              "      <td>Neutral</td>\n",
              "    </tr>\n",
              "    <tr>\n",
              "      <th>10</th>\n",
              "      <td>A beautiful thing about Twitter is how it empo...</td>\n",
              "      <td>37951</td>\n",
              "      <td>294406</td>\n",
              "      <td>2022-10-26 15:27:40</td>\n",
              "      <td>a beautiful thing about twitter is how it empo...</td>\n",
              "      <td>0.812500</td>\n",
              "      <td>0.675000</td>\n",
              "      <td>Positive</td>\n",
              "    </tr>\n",
              "    <tr>\n",
              "      <th>11</th>\n",
              "      <td>@teslaownersSV I’m a big fan of citizen journa...</td>\n",
              "      <td>488</td>\n",
              "      <td>5529</td>\n",
              "      <td>2022-10-26 15:22:43</td>\n",
              "      <td>im a big fan of citizen journalism</td>\n",
              "      <td>0.100000</td>\n",
              "      <td>0.000000</td>\n",
              "      <td>Neutral</td>\n",
              "    </tr>\n",
              "    <tr>\n",
              "      <th>12</th>\n",
              "      <td>“According to unnamed sources close to the mat...</td>\n",
              "      <td>4603</td>\n",
              "      <td>62693</td>\n",
              "      <td>2022-10-26 14:50:58</td>\n",
              "      <td>according to unnamed sources close to the matt...</td>\n",
              "      <td>0.000000</td>\n",
              "      <td>0.000000</td>\n",
              "      <td>Neutral</td>\n",
              "    </tr>\n",
              "  </tbody>\n",
              "</table>\n",
              "</div>"
            ],
            "text/plain": [
              "                                               Tweets  Retweets    Likes  \\\n",
              "0                               @PeterSchiff 🤣 thanks       209     7021   \n",
              "1                               @ZubyMusic Absolutely       755    26737   \n",
              "2    Dear Twitter Advertisers https://t.co/GMwHmInPAS     55927   356623   \n",
              "4      Meeting a lot of cool people at Twitter today!      9366   195546   \n",
              "5   Entering Twitter HQ – let that sink in! https:...    145520  1043592   \n",
              "8   @ARodTV Definitely closer to citizen journalis...       699    10189   \n",
              "9              @sandyleevincent Nobody bats 1000 🤷‍♂️       126     2920   \n",
              "10  A beautiful thing about Twitter is how it empo...     37951   294406   \n",
              "11  @teslaownersSV I’m a big fan of citizen journa...       488     5529   \n",
              "12  “According to unnamed sources close to the mat...      4603    62693   \n",
              "\n",
              "                   Date                                     Cleaned_tweets  \\\n",
              "0   2022-10-27 16:17:39                                             thanks   \n",
              "1   2022-10-27 13:19:25                                         absolutely   \n",
              "2   2022-10-27 13:08:00                           dear twitter advertisers   \n",
              "4   2022-10-26 21:39:32      meeting a lot of cool people at twitter today   \n",
              "5   2022-10-26 18:45:58              entering twitter hq  let that sink in   \n",
              "8   2022-10-26 17:05:16  definitely closer to citizen journalism  local...   \n",
              "9   2022-10-26 15:42:50                                   nobody bats 1000   \n",
              "10  2022-10-26 15:27:40  a beautiful thing about twitter is how it empo...   \n",
              "11  2022-10-26 15:22:43                 im a big fan of citizen journalism   \n",
              "12  2022-10-26 14:50:58  according to unnamed sources close to the matt...   \n",
              "\n",
              "    Subjectivity  Polarity Sentiment  \n",
              "0       0.200000  0.200000  Positive  \n",
              "1       0.900000  0.200000  Positive  \n",
              "2       0.000000  0.000000   Neutral  \n",
              "4       0.650000  0.350000  Positive  \n",
              "5       0.000000  0.000000   Neutral  \n",
              "8       0.333333  0.166667  Positive  \n",
              "9       0.000000  0.000000   Neutral  \n",
              "10      0.812500  0.675000  Positive  \n",
              "11      0.100000  0.000000   Neutral  \n",
              "12      0.000000  0.000000   Neutral  "
            ]
          },
          "execution_count": 12,
          "metadata": {},
          "output_type": "execute_result"
        }
      ],
      "source": [
        "# Defining the sentiment classifications \n",
        "\n",
        "def getSentiment(value):\n",
        "    if value < 0:\n",
        "        return \"Negative\"\n",
        "    elif value > 0:\n",
        "        return \"Positive\"\n",
        "    else:\n",
        "        return \"Neutral\"\n",
        "\n",
        "# Creating new column with the Polarity classifications\n",
        "\n",
        "df[\"Sentiment\"] = df[\"Polarity\"].apply(getSentiment)\n",
        "\n",
        "df.head(10)"
      ]
    },
    {
      "cell_type": "markdown",
      "id": "69997541",
      "metadata": {
        "id": "69997541"
      },
      "source": [
        "Determining the mean values of subjectivity and polarity to better understand the data."
      ]
    },
    {
      "cell_type": "code",
      "execution_count": null,
      "id": "66bceb2a",
      "metadata": {
        "id": "66bceb2a",
        "outputId": "6b4f44e1-69cc-4da7-d1e4-708b3962d737"
      },
      "outputs": [
        {
          "data": {
            "text/plain": [
              "0.3558880457343347"
            ]
          },
          "execution_count": 13,
          "metadata": {},
          "output_type": "execute_result"
        }
      ],
      "source": [
        "# Subjectivity average \n",
        "\n",
        "df[\"Subjectivity\"].mean()"
      ]
    },
    {
      "cell_type": "code",
      "execution_count": null,
      "id": "58287088",
      "metadata": {
        "id": "58287088",
        "outputId": "d2edd15d-c5ca-4d63-bf49-bdf279d7afaf"
      },
      "outputs": [
        {
          "data": {
            "text/plain": [
              "0.12389111816523006"
            ]
          },
          "execution_count": 14,
          "metadata": {},
          "output_type": "execute_result"
        }
      ],
      "source": [
        "# Polarity average \n",
        "\n",
        "df[\"Polarity\"].mean()"
      ]
    },
    {
      "cell_type": "markdown",
      "id": "8be74cd1",
      "metadata": {
        "id": "8be74cd1"
      },
      "source": [
        "### 5. Analysis"
      ]
    },
    {
      "cell_type": "markdown",
      "id": "ef23f2b8",
      "metadata": {
        "id": "ef23f2b8"
      },
      "source": [
        "Examining which sentiment is the most common."
      ]
    },
    {
      "cell_type": "code",
      "execution_count": null,
      "id": "a5bb8e98",
      "metadata": {
        "scrolled": true,
        "id": "a5bb8e98",
        "outputId": "e0824530-c4f6-4111-a518-21ad3d0c6480"
      },
      "outputs": [
        {
          "data": {
            "image/png": "[encoded data removed]",
            "text/plain": [
              "<Figure size 600x400 with 1 Axes>"
            ]
          },
          "metadata": {},
          "output_type": "display_data"
        }
      ],
      "source": [
        "# Number of Sentiment \n",
        "\n",
        "Sentiments_group= df[\"Polarity\"].groupby(df[\"Sentiment\"]).count()\n",
        "\n",
        "# Plotting a pie chart: Percentage of tweets by Sentiments\n",
        "\n",
        "labels = Sentiments_group.keys()\n",
        "plt.figure(figsize=(6,4))\n",
        "colours = [\"coral\", \"green\", \"blue\"]\n",
        "colors= sns.color_palette('GnBu')\n",
        "explode = [0,0,0]\n",
        "plt.style.use(\"default\")\n",
        "plt.pie(Sentiments_group,labels=labels,\n",
        "        colors = colors, \n",
        "        explode = explode, autopct = \"%1.0f%%\")\n",
        "plt.title(\"% of Sentiments\")\n",
        "plt.tight_layout()\n",
        "plt.show()"
      ]
    },
    {
      "cell_type": "markdown",
      "id": "5c63f872",
      "metadata": {
        "id": "5c63f872"
      },
      "source": [
        "Determining the actual count of tweets in each of the category."
      ]
    },
    {
      "cell_type": "code",
      "execution_count": null,
      "id": "7d313f59",
      "metadata": {
        "id": "7d313f59",
        "outputId": "aeb9252c-125b-4e7a-d153-6391a6de090f"
      },
      "outputs": [
        {
          "data": {
            "image/png": "[encoded data removed]",
            "text/plain": [
              "<Figure size 600x400 with 1 Axes>"
            ]
          },
          "metadata": {},
          "output_type": "display_data"
        }
      ],
      "source": [
        "# Plotting the number of tweets by sentiments\n",
        "\n",
        "plt.style.use(\"default\")\n",
        "plt.figure(figsize=(6,4)) \n",
        "sns.histplot(df, x = \"Sentiment\", color = \"coral\",edgecolor = \"white\", shrink = 0.9).set(xlabel = None)\n",
        "\n",
        "plt.title(\"Number of Sentiment Tweets\")\n",
        "plt.grid(False)\n",
        "plt.show()"
      ]
    },
    {
      "cell_type": "markdown",
      "id": "1fb4aad8",
      "metadata": {
        "id": "1fb4aad8"
      },
      "source": [
        "Examination of how does polarity and subjectivity affect engagement (retweets and likes)."
      ]
    },
    {
      "cell_type": "code",
      "execution_count": null,
      "id": "460847ef",
      "metadata": {
        "id": "460847ef",
        "outputId": "9cc02ae7-49a4-4f2a-c1dd-d5bf15072f25"
      },
      "outputs": [
        {
          "data": {
            "text/html": [
              "<div>\n",
              "<style scoped>\n",
              "    .dataframe tbody tr th:only-of-type {\n",
              "        vertical-align: middle;\n",
              "    }\n",
              "\n",
              "    .dataframe tbody tr th {\n",
              "        vertical-align: top;\n",
              "    }\n",
              "\n",
              "    .dataframe thead th {\n",
              "        text-align: right;\n",
              "    }\n",
              "</style>\n",
              "<table border=\"1\" class=\"dataframe\">\n",
              "  <thead>\n",
              "    <tr style=\"text-align: right;\">\n",
              "      <th></th>\n",
              "      <th>Tweets</th>\n",
              "      <th>Retweets</th>\n",
              "      <th>Likes</th>\n",
              "      <th>Date</th>\n",
              "      <th>Cleaned_tweets</th>\n",
              "      <th>Subjectivity</th>\n",
              "      <th>Polarity</th>\n",
              "      <th>Sentiment</th>\n",
              "      <th>Engagement</th>\n",
              "    </tr>\n",
              "  </thead>\n",
              "  <tbody>\n",
              "    <tr>\n",
              "      <th>0</th>\n",
              "      <td>@PeterSchiff 🤣 thanks</td>\n",
              "      <td>209</td>\n",
              "      <td>7021</td>\n",
              "      <td>2022-10-27 16:17:39</td>\n",
              "      <td>thanks</td>\n",
              "      <td>0.20</td>\n",
              "      <td>0.20</td>\n",
              "      <td>Positive</td>\n",
              "      <td>7230</td>\n",
              "    </tr>\n",
              "    <tr>\n",
              "      <th>1</th>\n",
              "      <td>@ZubyMusic Absolutely</td>\n",
              "      <td>755</td>\n",
              "      <td>26737</td>\n",
              "      <td>2022-10-27 13:19:25</td>\n",
              "      <td>absolutely</td>\n",
              "      <td>0.90</td>\n",
              "      <td>0.20</td>\n",
              "      <td>Positive</td>\n",
              "      <td>27492</td>\n",
              "    </tr>\n",
              "    <tr>\n",
              "      <th>2</th>\n",
              "      <td>Dear Twitter Advertisers https://t.co/GMwHmInPAS</td>\n",
              "      <td>55927</td>\n",
              "      <td>356623</td>\n",
              "      <td>2022-10-27 13:08:00</td>\n",
              "      <td>dear twitter advertisers</td>\n",
              "      <td>0.00</td>\n",
              "      <td>0.00</td>\n",
              "      <td>Neutral</td>\n",
              "      <td>412550</td>\n",
              "    </tr>\n",
              "    <tr>\n",
              "      <th>4</th>\n",
              "      <td>Meeting a lot of cool people at Twitter today!</td>\n",
              "      <td>9366</td>\n",
              "      <td>195546</td>\n",
              "      <td>2022-10-26 21:39:32</td>\n",
              "      <td>meeting a lot of cool people at twitter today</td>\n",
              "      <td>0.65</td>\n",
              "      <td>0.35</td>\n",
              "      <td>Positive</td>\n",
              "      <td>204912</td>\n",
              "    </tr>\n",
              "    <tr>\n",
              "      <th>5</th>\n",
              "      <td>Entering Twitter HQ – let that sink in! https:...</td>\n",
              "      <td>145520</td>\n",
              "      <td>1043592</td>\n",
              "      <td>2022-10-26 18:45:58</td>\n",
              "      <td>entering twitter hq  let that sink in</td>\n",
              "      <td>0.00</td>\n",
              "      <td>0.00</td>\n",
              "      <td>Neutral</td>\n",
              "      <td>1189112</td>\n",
              "    </tr>\n",
              "  </tbody>\n",
              "</table>\n",
              "</div>"
            ],
            "text/plain": [
              "                                              Tweets  Retweets    Likes  \\\n",
              "0                              @PeterSchiff 🤣 thanks       209     7021   \n",
              "1                              @ZubyMusic Absolutely       755    26737   \n",
              "2   Dear Twitter Advertisers https://t.co/GMwHmInPAS     55927   356623   \n",
              "4     Meeting a lot of cool people at Twitter today!      9366   195546   \n",
              "5  Entering Twitter HQ – let that sink in! https:...    145520  1043592   \n",
              "\n",
              "                  Date                                 Cleaned_tweets  \\\n",
              "0  2022-10-27 16:17:39                                         thanks   \n",
              "1  2022-10-27 13:19:25                                     absolutely   \n",
              "2  2022-10-27 13:08:00                       dear twitter advertisers   \n",
              "4  2022-10-26 21:39:32  meeting a lot of cool people at twitter today   \n",
              "5  2022-10-26 18:45:58          entering twitter hq  let that sink in   \n",
              "\n",
              "   Subjectivity  Polarity Sentiment  Engagement  \n",
              "0          0.20      0.20  Positive        7230  \n",
              "1          0.90      0.20  Positive       27492  \n",
              "2          0.00      0.00   Neutral      412550  \n",
              "4          0.65      0.35  Positive      204912  \n",
              "5          0.00      0.00   Neutral     1189112  "
            ]
          },
          "execution_count": 17,
          "metadata": {},
          "output_type": "execute_result"
        }
      ],
      "source": [
        "# Creating a new dataframe that combines Retweets and likes for new column called Engagement\n",
        "\n",
        "df[\"Engagement\"] = df.apply(lambda row: row.Retweets + row.Likes, axis=1)\n",
        "\n",
        "#Viewing the dataset\n",
        "df.head()"
      ]
    },
    {
      "cell_type": "code",
      "execution_count": null,
      "id": "55c7183a",
      "metadata": {
        "id": "55c7183a",
        "outputId": "e0adf343-b47c-4c17-acb6-078ced4c0e84"
      },
      "outputs": [
        {
          "data": {
            "text/plain": [
              "[Text(0.5, 1.0, 'Effect of subjectivity and sentiment on engagement')]"
            ]
          },
          "execution_count": 18,
          "metadata": {},
          "output_type": "execute_result"
        },
        {
          "data": {
            "image/png": "[encoded data removed]",
            "text/plain": [
              "<Figure size 640x480 with 1 Axes>"
            ]
          },
          "metadata": {},
          "output_type": "display_data"
        }
      ],
      "source": [
        "# Creating a scatterplot of engagement, subjectivity and sentiment\n",
        "\n",
        "s = sns.scatterplot(data=df, x=\"Subjectivity\", y=\"Engagement\", hue=\"Sentiment\", style=\"Sentiment\")\n",
        "\n",
        "s.set(title=\"Effect of subjectivity and sentiment on engagement\")"
      ]
    },
    {
      "cell_type": "markdown",
      "id": "9a0d0be7",
      "metadata": {
        "id": "9a0d0be7"
      },
      "source": [
        "In order to visualize a more clear scatterplot, I will remove some of the outliers"
      ]
    },
    {
      "cell_type": "code",
      "execution_count": null,
      "id": "00cbac30",
      "metadata": {
        "scrolled": false,
        "id": "00cbac30",
        "outputId": "90fbb7a1-e8d0-433f-de1b-b381f647966c"
      },
      "outputs": [
        {
          "name": "stdout",
          "output_type": "stream",
          "text": [
            "5462494\n"
          ]
        }
      ],
      "source": [
        "# Determining what is the highest value of the engagement column\n",
        "\n",
        "m = df[\"Engagement\"].max()\n",
        "\n",
        "print(m)"
      ]
    },
    {
      "cell_type": "markdown",
      "id": "0453721f",
      "metadata": {
        "id": "0453721f"
      },
      "source": [
        "The maximum value of the Engagement column is 5,462,494\n",
        "\n",
        "Looking at the above visualization, it seems that removing values over 2,000,000 would get rid of most outliers"
      ]
    },
    {
      "cell_type": "code",
      "execution_count": null,
      "id": "c65f6534",
      "metadata": {
        "id": "c65f6534",
        "outputId": "9f83e71e-eb93-4bdb-81db-4543bc3f551e"
      },
      "outputs": [
        {
          "data": {
            "text/plain": [
              "(2631, 9)"
            ]
          },
          "execution_count": 20,
          "metadata": {},
          "output_type": "execute_result"
        }
      ],
      "source": [
        "df.drop(df[df[\"Engagement\"] >= 2000000].index, inplace = True)\n",
        "\n",
        "df.shape"
      ]
    },
    {
      "cell_type": "code",
      "execution_count": null,
      "id": "77afe85f",
      "metadata": {
        "id": "77afe85f",
        "outputId": "c6205a3b-3763-4694-d4c0-c2f894267d06"
      },
      "outputs": [
        {
          "data": {
            "text/plain": [
              "[Text(0.5, 1.0, 'Effect of subjectivity and sentiment on engagement')]"
            ]
          },
          "execution_count": 21,
          "metadata": {},
          "output_type": "execute_result"
        },
        {
          "data": {
            "image/png": "[encoded data removed]",
            "text/plain": [
              "<Figure size 640x480 with 1 Axes>"
            ]
          },
          "metadata": {},
          "output_type": "display_data"
        }
      ],
      "source": [
        "# Creating a new scatterplot of engagement, subjectivity and sentiment\n",
        "\n",
        "s = sns.scatterplot(data=df, x=\"Subjectivity\", y=\"Engagement\", hue=\"Sentiment\", style=\"Sentiment\")\n",
        "\n",
        "s.set(title=\"Effect of subjectivity and sentiment on engagement\")"
      ]
    },
    {
      "cell_type": "markdown",
      "id": "1bb1b490",
      "metadata": {
        "id": "1bb1b490"
      },
      "source": [
        "### 6. Conclusion of findings"
      ]
    },
    {
      "cell_type": "markdown",
      "id": "70cb1de3",
      "metadata": {
        "id": "70cb1de3"
      },
      "source": [
        "This notebook has focused on analyzing the sentiment of Elon Musk's tweets from 2022. The average values (mean) of the subjectivity (0.356) and polarity (0.124) tell us two things. First of all, we can observe that Elon favors objective statements over subjective ones in his tweets. Secondly, as a whole, the tweets contain more positive sentiments than negative ones. \n",
        "\n",
        "Examining the final scatter plot gives some additional inside. First of all, it is quite clear to see that tweets that are labeled as neutral, overwhelmingly score lowest on subjectivity. There doesn't seem to be a clear difference in whether positive or negative tweets are more subjective. \n",
        "\n",
        "Looking at engagement, it seems that positive tweets seem to generate a little bit more engagement compared to the other two categories. This would be in line with some recent research that has shown that emotionally based content seems to generate higher engagement than factual (neutral) content (Bronstein, 2018, p.554), especially when that emotion is positive (Bene, 2017, p.519). However, it is likely that the results of the scatterplot are skewed based on the share of the different categories in the dataset where positive tweets are 47%, neutral 39%, and negative 14%. Based on this, I don't think that it can be reliably said that the sentiment of Elon's tweets affects the engagement levels.\n",
        "\n",
        "Finally, it can be observed that there doesn't seem to be a relationship, at least not a strong one, between subjectivity and engagement."
      ]
    },
    {
      "cell_type": "markdown",
      "id": "e7b581bd",
      "metadata": {
        "id": "e7b581bd"
      },
      "source": [
        "### 7. References"
      ]
    },
    {
      "cell_type": "markdown",
      "id": "e426d124",
      "metadata": {
        "id": "e426d124"
      },
      "source": [
        "Bene, M. (2017). Go viral on the Facebook! Interactions between candidates and followers on Facebook during the Hungarian general election campaign of 2014. Information, Communication & Society, 20(4), 513-529.\n",
        "\n",
        "Bronstein, J., Aharony, N., & Bar-Ilan, J. (2018). Politicians’ use of Facebook during elections: Use of emotionally-based discourse, personalization, social media engagement and vividness. Aslib Journal of Information Management.\n"
      ]
    }
  ],
  "metadata": {
    "kernelspec": {
      "display_name": "Python 3 (ipykernel)",
      "language": "python",
      "name": "python3"
    },
    "language_info": {
      "codemirror_mode": {
        "name": "ipython",
        "version": 3
      },
      "file_extension": ".py",
      "mimetype": "text/x-python",
      "name": "python",
      "nbconvert_exporter": "python",
      "pygments_lexer": "ipython3",
      "version": "3.9.13"
    },
    "colab": {
      "provenance": [],
      "include_colab_link": true
    }
  },
  "nbformat": 4,
  "nbformat_minor": 5
}
